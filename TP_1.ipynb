{
 "cells": [
  {
   "cell_type": "markdown",
   "id": "ff670778",
   "metadata": {},
   "source": [
    "# Jackson Gawarecki and Carmen Gascó Gálvez\n",
    "## Team Project 1\n",
    "### DS-160-02 Intro To Data Science\n",
    "#### Spring 2022"
   ]
  },
  {
   "cell_type": "code",
   "execution_count": 1,
   "id": "a0f0ba86",
   "metadata": {},
   "outputs": [],
   "source": [
    "import numpy as np\n",
    "import matplotlib.pyplot as plt\n",
    "import pandas as pd\n",
    "import seaborn as sns\n",
    "from sklearn.model_selection import train_test_split\n",
    "from sklearn.linear_model import LinearRegression"
   ]
  },
  {
   "cell_type": "code",
   "execution_count": 2,
   "id": "50fdc2c4",
   "metadata": {},
   "outputs": [],
   "source": [
    "dataset=pd.read_csv(\"dataset.csv\")"
   ]
  },
  {
   "cell_type": "code",
   "execution_count": 3,
   "id": "7da35d24",
   "metadata": {},
   "outputs": [
    {
     "data": {
      "text/html": [
       "<div>\n",
       "<style scoped>\n",
       "    .dataframe tbody tr th:only-of-type {\n",
       "        vertical-align: middle;\n",
       "    }\n",
       "\n",
       "    .dataframe tbody tr th {\n",
       "        vertical-align: top;\n",
       "    }\n",
       "\n",
       "    .dataframe thead th {\n",
       "        text-align: right;\n",
       "    }\n",
       "</style>\n",
       "<table border=\"1\" class=\"dataframe\">\n",
       "  <thead>\n",
       "    <tr style=\"text-align: right;\">\n",
       "      <th></th>\n",
       "      <th>Gender</th>\n",
       "      <th>Age Range</th>\n",
       "      <th>Head Size(cm^3)</th>\n",
       "      <th>Brain Weight(grams)</th>\n",
       "    </tr>\n",
       "  </thead>\n",
       "  <tbody>\n",
       "    <tr>\n",
       "      <th>0</th>\n",
       "      <td>1</td>\n",
       "      <td>1</td>\n",
       "      <td>4512</td>\n",
       "      <td>1530</td>\n",
       "    </tr>\n",
       "    <tr>\n",
       "      <th>1</th>\n",
       "      <td>1</td>\n",
       "      <td>1</td>\n",
       "      <td>3738</td>\n",
       "      <td>1297</td>\n",
       "    </tr>\n",
       "    <tr>\n",
       "      <th>2</th>\n",
       "      <td>1</td>\n",
       "      <td>1</td>\n",
       "      <td>4261</td>\n",
       "      <td>1335</td>\n",
       "    </tr>\n",
       "    <tr>\n",
       "      <th>3</th>\n",
       "      <td>1</td>\n",
       "      <td>1</td>\n",
       "      <td>4177</td>\n",
       "      <td>1590</td>\n",
       "    </tr>\n",
       "    <tr>\n",
       "      <th>4</th>\n",
       "      <td>1</td>\n",
       "      <td>1</td>\n",
       "      <td>3585</td>\n",
       "      <td>1300</td>\n",
       "    </tr>\n",
       "  </tbody>\n",
       "</table>\n",
       "</div>"
      ],
      "text/plain": [
       "   Gender  Age Range  Head Size(cm^3)  Brain Weight(grams)\n",
       "0       1          1             4512                 1530\n",
       "1       1          1             3738                 1297\n",
       "2       1          1             4261                 1335\n",
       "3       1          1             4177                 1590\n",
       "4       1          1             3585                 1300"
      ]
     },
     "execution_count": 3,
     "metadata": {},
     "output_type": "execute_result"
    }
   ],
   "source": [
    "dataset.head()"
   ]
  },
  {
   "cell_type": "code",
   "execution_count": 4,
   "id": "248160d6",
   "metadata": {},
   "outputs": [
    {
     "name": "stdout",
     "output_type": "stream",
     "text": [
      "<class 'pandas.core.frame.DataFrame'>\n",
      "RangeIndex: 224 entries, 0 to 223\n",
      "Data columns (total 4 columns):\n",
      " #   Column               Non-Null Count  Dtype\n",
      "---  ------               --------------  -----\n",
      " 0   Gender               224 non-null    int64\n",
      " 1   Age Range            224 non-null    int64\n",
      " 2   Head Size(cm^3)      224 non-null    int64\n",
      " 3   Brain Weight(grams)  224 non-null    int64\n",
      "dtypes: int64(4)\n",
      "memory usage: 7.1 KB\n"
     ]
    }
   ],
   "source": [
    "dataset.info()"
   ]
  },
  {
   "cell_type": "markdown",
   "id": "66588b9a",
   "metadata": {},
   "source": [
    "# Missing values"
   ]
  },
  {
   "cell_type": "code",
   "execution_count": 5,
   "id": "33513f65",
   "metadata": {},
   "outputs": [
    {
     "data": {
      "text/plain": [
       "Gender                 0\n",
       "Age Range              0\n",
       "Head Size(cm^3)        0\n",
       "Brain Weight(grams)    0\n",
       "dtype: int64"
      ]
     },
     "execution_count": 5,
     "metadata": {},
     "output_type": "execute_result"
    }
   ],
   "source": [
    "dataset.isnull().sum()"
   ]
  },
  {
   "cell_type": "markdown",
   "id": "8b6ebf39",
   "metadata": {},
   "source": [
    "# Create Different Copies of your Data"
   ]
  },
  {
   "cell_type": "code",
   "execution_count": 6,
   "id": "12eb6c79",
   "metadata": {},
   "outputs": [],
   "source": [
    "data_LR=dataset\n",
    "data_SVR=dataset\n",
    "data_DT=dataset\n",
    "data_RF=dataset"
   ]
  },
  {
   "cell_type": "markdown",
   "id": "4bee4400",
   "metadata": {},
   "source": [
    "# Decision Tree Regresson"
   ]
  },
  {
   "cell_type": "code",
   "execution_count": 83,
   "id": "51d540e6",
   "metadata": {},
   "outputs": [],
   "source": [
    "X=data_DT[['Gender','Age Range','Head Size(cm^3)']]\n",
    "y=data_DT[['Brain Weight(grams)']]"
   ]
  },
  {
   "cell_type": "code",
   "execution_count": 84,
   "id": "0e4cc207",
   "metadata": {},
   "outputs": [],
   "source": [
    "#X_train,X_test,y_train,y_test=train_test_split(X,y,test_size=.2, random_state=0)\n",
    "#X_train,X_test,y_train,y_test=train_test_split(X,y,test_size=.15, random_state=0)\n",
    "X_train,X_test,y_train,y_test=train_test_split(X,y,test_size=.1, random_state=0)"
   ]
  },
  {
   "cell_type": "code",
   "execution_count": 85,
   "id": "b31d8455",
   "metadata": {},
   "outputs": [],
   "source": [
    "from sklearn.tree import DecisionTreeRegressor\n",
    "from sklearn.tree import plot_tree"
   ]
  },
  {
   "cell_type": "code",
   "execution_count": 86,
   "id": "ac928703",
   "metadata": {},
   "outputs": [
    {
     "data": {
      "text/plain": [
       "DecisionTreeRegressor(random_state=0)"
      ]
     },
     "execution_count": 86,
     "metadata": {},
     "output_type": "execute_result"
    }
   ],
   "source": [
    "regressor=DecisionTreeRegressor(random_state=0)\n",
    "regressor.fit(X_train,y_train)"
   ]
  },
  {
   "cell_type": "code",
   "execution_count": 87,
   "id": "3af86b92",
   "metadata": {},
   "outputs": [],
   "source": [
    "y_pred=regressor.predict(X_test)"
   ]
  },
  {
   "cell_type": "markdown",
   "id": "54b8256d",
   "metadata": {},
   "source": [
    "### Predict"
   ]
  },
  {
   "cell_type": "code",
   "execution_count": 88,
   "id": "7fdb9f4e",
   "metadata": {},
   "outputs": [
    {
     "data": {
      "text/plain": [
       "array([955.])"
      ]
     },
     "execution_count": 88,
     "metadata": {},
     "output_type": "execute_result"
    }
   ],
   "source": [
    "regressor.predict([[1,1,777]])"
   ]
  },
  {
   "cell_type": "code",
   "execution_count": 89,
   "id": "c241df72",
   "metadata": {},
   "outputs": [
    {
     "data": {
      "text/plain": [
       "array([1505.])"
      ]
     },
     "execution_count": 89,
     "metadata": {},
     "output_type": "execute_result"
    }
   ],
   "source": [
    "regressor.predict([[1,1,4424]])"
   ]
  },
  {
   "cell_type": "code",
   "execution_count": 90,
   "id": "9c1706cb",
   "metadata": {},
   "outputs": [
    {
     "data": {
      "text/plain": [
       "array([1422.])"
      ]
     },
     "execution_count": 90,
     "metadata": {},
     "output_type": "execute_result"
    }
   ],
   "source": [
    "regressor.predict([[1,1,4036]])"
   ]
  },
  {
   "cell_type": "code",
   "execution_count": 91,
   "id": "562fb86a",
   "metadata": {},
   "outputs": [
    {
     "data": {
      "text/plain": [
       "array([1506.])"
      ]
     },
     "execution_count": 91,
     "metadata": {},
     "output_type": "execute_result"
    }
   ],
   "source": [
    "regressor.predict([[1,1,4315]])"
   ]
  },
  {
   "cell_type": "code",
   "execution_count": 92,
   "id": "41b27a2e",
   "metadata": {},
   "outputs": [
    {
     "data": {
      "text/plain": [
       "array([1335.])"
      ]
     },
     "execution_count": 92,
     "metadata": {},
     "output_type": "execute_result"
    }
   ],
   "source": [
    "regressor.predict([[1,1,4270]])"
   ]
  },
  {
   "cell_type": "code",
   "execution_count": 93,
   "id": "f7ebd1f2",
   "metadata": {},
   "outputs": [
    {
     "data": {
      "text/plain": [
       "array([1290.])"
      ]
     },
     "execution_count": 93,
     "metadata": {},
     "output_type": "execute_result"
    }
   ],
   "source": [
    "regressor.predict([[1,2,3727]])"
   ]
  },
  {
   "cell_type": "code",
   "execution_count": 94,
   "id": "cab53c7e",
   "metadata": {},
   "outputs": [
    {
     "data": {
      "text/plain": [
       "array([1222.])"
      ]
     },
     "execution_count": 94,
     "metadata": {},
     "output_type": "execute_result"
    }
   ],
   "source": [
    "regressor.predict([[1,2,3666]])"
   ]
  },
  {
   "cell_type": "code",
   "execution_count": 95,
   "id": "82afe06a",
   "metadata": {},
   "outputs": [
    {
     "data": {
      "text/plain": [
       "array([1215.])"
      ]
     },
     "execution_count": 95,
     "metadata": {},
     "output_type": "execute_result"
    }
   ],
   "source": [
    "regressor.predict([[2,2,3394]])"
   ]
  },
  {
   "cell_type": "code",
   "execution_count": 96,
   "id": "a67b4622",
   "metadata": {},
   "outputs": [
    {
     "data": {
      "text/plain": [
       "array([1305.])"
      ]
     },
     "execution_count": 96,
     "metadata": {},
     "output_type": "execute_result"
    }
   ],
   "source": [
    "regressor.predict([[2,2,3692]])"
   ]
  },
  {
   "cell_type": "code",
   "execution_count": 97,
   "id": "711310bd",
   "metadata": {},
   "outputs": [
    {
     "data": {
      "text/plain": [
       "array([1120.])"
      ]
     },
     "execution_count": 97,
     "metadata": {},
     "output_type": "execute_result"
    }
   ],
   "source": [
    "regressor.predict([[2,2,3389]])"
   ]
  },
  {
   "cell_type": "code",
   "execution_count": 98,
   "id": "be077903",
   "metadata": {},
   "outputs": [
    {
     "data": {
      "text/plain": [
       "array([1256.])"
      ]
     },
     "execution_count": 98,
     "metadata": {},
     "output_type": "execute_result"
    }
   ],
   "source": [
    "regressor.predict([[2,2,4204]])"
   ]
  },
  {
   "cell_type": "code",
   "execution_count": 99,
   "id": "be1fb6d8",
   "metadata": {},
   "outputs": [
    {
     "data": {
      "text/plain": [
       "array([1110.])"
      ]
     },
     "execution_count": 99,
     "metadata": {},
     "output_type": "execute_result"
    }
   ],
   "source": [
    "regressor.predict([[2,2,3214]])"
   ]
  },
  {
   "cell_type": "markdown",
   "id": "a159a331",
   "metadata": {},
   "source": [
    "### R-Square and MSE"
   ]
  },
  {
   "cell_type": "code",
   "execution_count": 100,
   "id": "9624f359",
   "metadata": {},
   "outputs": [
    {
     "name": "stdout",
     "output_type": "stream",
     "text": [
      "R-Square 0.34807378217160145\n"
     ]
    }
   ],
   "source": [
    "from sklearn.metrics import r2_score\n",
    "print(\"R-Square\",r2_score(y_test,y_pred))"
   ]
  },
  {
   "cell_type": "code",
   "execution_count": 101,
   "id": "5654bcdf",
   "metadata": {},
   "outputs": [
    {
     "name": "stdout",
     "output_type": "stream",
     "text": [
      "The mean squared error is 79.18497881268402\n"
     ]
    }
   ],
   "source": [
    "from sklearn.metrics import mean_squared_error as msc\n",
    "from math import sqrt\n",
    "rms=sqrt(msc(y_test,y_pred))\n",
    "print('The mean squared error is',rms)"
   ]
  },
  {
   "cell_type": "markdown",
   "id": "c7e1bd18",
   "metadata": {},
   "source": [
    "# Random Forest Regression"
   ]
  },
  {
   "cell_type": "code",
   "execution_count": 102,
   "id": "0b90794b",
   "metadata": {},
   "outputs": [],
   "source": [
    "X=data_RF[['Gender','Age Range','Head Size(cm^3)']]\n",
    "y=data_RF[['Brain Weight(grams)']]"
   ]
  },
  {
   "cell_type": "code",
   "execution_count": 103,
   "id": "30d5b380",
   "metadata": {},
   "outputs": [],
   "source": [
    "#X_train,X_test,y_train,y_test=train_test_split(X,y,test_size=.2, random_state=0)\n",
    "#X_train,X_test,y_train,y_test=train_test_split(X,y,test_size=.15, random_state=0)\n",
    "X_train,X_test,y_train,y_test=train_test_split(X,y,test_size=.1, random_state=0)"
   ]
  },
  {
   "cell_type": "code",
   "execution_count": 104,
   "id": "21965ec4",
   "metadata": {},
   "outputs": [],
   "source": [
    "from sklearn.ensemble import RandomForestRegressor"
   ]
  },
  {
   "cell_type": "code",
   "execution_count": 105,
   "id": "ef35e0ed",
   "metadata": {},
   "outputs": [
    {
     "name": "stderr",
     "output_type": "stream",
     "text": [
      "<ipython-input-105-3a5204d5c8ac>:2: DataConversionWarning: A column-vector y was passed when a 1d array was expected. Please change the shape of y to (n_samples,), for example using ravel().\n",
      "  regressor.fit(X_train,y_train)\n"
     ]
    },
    {
     "data": {
      "text/plain": [
       "RandomForestRegressor(n_estimators=20, random_state=0)"
      ]
     },
     "execution_count": 105,
     "metadata": {},
     "output_type": "execute_result"
    }
   ],
   "source": [
    "regressor=RandomForestRegressor(n_estimators=20, random_state=0)\n",
    "regressor.fit(X_train,y_train)"
   ]
  },
  {
   "cell_type": "code",
   "execution_count": 106,
   "id": "164709a1",
   "metadata": {},
   "outputs": [],
   "source": [
    "y_pred=regressor.predict(X_test)"
   ]
  },
  {
   "cell_type": "markdown",
   "id": "7fba6048",
   "metadata": {},
   "source": [
    "## Predict"
   ]
  },
  {
   "cell_type": "code",
   "execution_count": 107,
   "id": "24ec226e",
   "metadata": {},
   "outputs": [
    {
     "data": {
      "text/plain": [
       "array([993.6])"
      ]
     },
     "execution_count": 107,
     "metadata": {},
     "output_type": "execute_result"
    }
   ],
   "source": [
    "regressor.predict([[1,1,777]])"
   ]
  },
  {
   "cell_type": "code",
   "execution_count": 108,
   "id": "9f93aa1d",
   "metadata": {},
   "outputs": [
    {
     "data": {
      "text/plain": [
       "array([1510.88333333])"
      ]
     },
     "execution_count": 108,
     "metadata": {},
     "output_type": "execute_result"
    }
   ],
   "source": [
    "regressor.predict([[1,1,4424]])"
   ]
  },
  {
   "cell_type": "code",
   "execution_count": 109,
   "id": "fad3b901",
   "metadata": {},
   "outputs": [
    {
     "data": {
      "text/plain": [
       "array([1407.55])"
      ]
     },
     "execution_count": 109,
     "metadata": {},
     "output_type": "execute_result"
    }
   ],
   "source": [
    "regressor.predict([[1,1,4036]])"
   ]
  },
  {
   "cell_type": "code",
   "execution_count": 110,
   "id": "1a125f30",
   "metadata": {},
   "outputs": [
    {
     "data": {
      "text/plain": [
       "array([1475.8])"
      ]
     },
     "execution_count": 110,
     "metadata": {},
     "output_type": "execute_result"
    }
   ],
   "source": [
    "regressor.predict([[1,1,4315]])"
   ]
  },
  {
   "cell_type": "code",
   "execution_count": 111,
   "id": "8c02c36f",
   "metadata": {},
   "outputs": [
    {
     "data": {
      "text/plain": [
       "array([1390.3])"
      ]
     },
     "execution_count": 111,
     "metadata": {},
     "output_type": "execute_result"
    }
   ],
   "source": [
    "regressor.predict([[1,1,4270]])"
   ]
  },
  {
   "cell_type": "code",
   "execution_count": 112,
   "id": "03f0f26e",
   "metadata": {},
   "outputs": [
    {
     "data": {
      "text/plain": [
       "array([1295.1])"
      ]
     },
     "execution_count": 112,
     "metadata": {},
     "output_type": "execute_result"
    }
   ],
   "source": [
    "regressor.predict([[1,2,3727]])"
   ]
  },
  {
   "cell_type": "code",
   "execution_count": 113,
   "id": "e067757d",
   "metadata": {},
   "outputs": [
    {
     "data": {
      "text/plain": [
       "array([1225.6])"
      ]
     },
     "execution_count": 113,
     "metadata": {},
     "output_type": "execute_result"
    }
   ],
   "source": [
    "regressor.predict([[1,2,3666]])"
   ]
  },
  {
   "cell_type": "code",
   "execution_count": 114,
   "id": "ae488b4d",
   "metadata": {},
   "outputs": [
    {
     "data": {
      "text/plain": [
       "array([1196.75])"
      ]
     },
     "execution_count": 114,
     "metadata": {},
     "output_type": "execute_result"
    }
   ],
   "source": [
    "regressor.predict([[2,2,3394]])"
   ]
  },
  {
   "cell_type": "code",
   "execution_count": 115,
   "id": "23506a81",
   "metadata": {},
   "outputs": [
    {
     "data": {
      "text/plain": [
       "array([1319.25])"
      ]
     },
     "execution_count": 115,
     "metadata": {},
     "output_type": "execute_result"
    }
   ],
   "source": [
    "regressor.predict([[2,2,3692]])"
   ]
  },
  {
   "cell_type": "code",
   "execution_count": 116,
   "id": "93797d02",
   "metadata": {},
   "outputs": [
    {
     "data": {
      "text/plain": [
       "array([1123.25])"
      ]
     },
     "execution_count": 116,
     "metadata": {},
     "output_type": "execute_result"
    }
   ],
   "source": [
    "regressor.predict([[2,2,3389]])"
   ]
  },
  {
   "cell_type": "code",
   "execution_count": 117,
   "id": "8c8b32ba",
   "metadata": {},
   "outputs": [
    {
     "data": {
      "text/plain": [
       "array([1374.6])"
      ]
     },
     "execution_count": 117,
     "metadata": {},
     "output_type": "execute_result"
    }
   ],
   "source": [
    "regressor.predict([[2,2,4204]])"
   ]
  },
  {
   "cell_type": "code",
   "execution_count": 118,
   "id": "7810379a",
   "metadata": {},
   "outputs": [
    {
     "data": {
      "text/plain": [
       "array([1116.35])"
      ]
     },
     "execution_count": 118,
     "metadata": {},
     "output_type": "execute_result"
    }
   ],
   "source": [
    "regressor.predict([[2,2,3214]])"
   ]
  },
  {
   "cell_type": "markdown",
   "id": "73ab7856",
   "metadata": {},
   "source": [
    "## R-squared and MSE"
   ]
  },
  {
   "cell_type": "code",
   "execution_count": 119,
   "id": "c6aa6f11",
   "metadata": {},
   "outputs": [
    {
     "name": "stdout",
     "output_type": "stream",
     "text": [
      "R-Square 0.49302515747992803\n"
     ]
    }
   ],
   "source": [
    "print(\"R-Square\",r2_score(y_test,y_pred))"
   ]
  },
  {
   "cell_type": "code",
   "execution_count": 120,
   "id": "753b715b",
   "metadata": {},
   "outputs": [
    {
     "name": "stdout",
     "output_type": "stream",
     "text": [
      "The mean squared error is 69.82915486790039\n"
     ]
    }
   ],
   "source": [
    "rms=sqrt(msc(y_test,y_pred))\n",
    "print('The mean squared error is',rms)"
   ]
  }
 ],
 "metadata": {
  "kernelspec": {
   "display_name": "Python 3",
   "language": "python",
   "name": "python3"
  },
  "language_info": {
   "codemirror_mode": {
    "name": "ipython",
    "version": 3
   },
   "file_extension": ".py",
   "mimetype": "text/x-python",
   "name": "python",
   "nbconvert_exporter": "python",
   "pygments_lexer": "ipython3",
   "version": "3.8.8"
  }
 },
 "nbformat": 4,
 "nbformat_minor": 5
}
