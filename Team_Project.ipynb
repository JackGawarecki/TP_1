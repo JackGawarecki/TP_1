{
 "cells": [
  {
   "cell_type": "markdown",
   "id": "01441e02-cd86-4e48-ae5e-1ceb714bf76b",
   "metadata": {},
   "source": [
    "# Team project 1: Linear Regression, Support Vector Regression (SVR), Decision Tree Regression and Random Forest Regression\n",
    "### Authors: Carmen Gasco and Jackson Gawarecki\n",
    "Version: 1.20.3, \n",
    "Spring semester"
   ]
  },
  {
   "cell_type": "code",
   "execution_count": 1,
   "id": "e9976a8c-6726-4eae-9a82-fd9456f89562",
   "metadata": {},
   "outputs": [],
   "source": [
    "import pandas as pd \n",
    "import matplotlib.pyplot as plt\n",
    "import numpy as np\n",
    "import seaborn as sns"
   ]
  },
  {
   "cell_type": "code",
   "execution_count": 2,
   "id": "774b4220-7880-4932-9017-369ec97fe14e",
   "metadata": {},
   "outputs": [],
   "source": [
    "dataset=pd.read_csv('dataset.csv')"
   ]
  },
  {
   "cell_type": "code",
   "execution_count": 3,
   "id": "f0865f03-c351-44fd-9199-f7b25f51a5b7",
   "metadata": {},
   "outputs": [
    {
     "name": "stdout",
     "output_type": "stream",
     "text": [
      "<class 'pandas.core.frame.DataFrame'>\n",
      "RangeIndex: 224 entries, 0 to 223\n",
      "Data columns (total 4 columns):\n",
      " #   Column               Non-Null Count  Dtype\n",
      "---  ------               --------------  -----\n",
      " 0   Gender               224 non-null    int64\n",
      " 1   Age Range            224 non-null    int64\n",
      " 2   Head Size(cm^3)      224 non-null    int64\n",
      " 3   Brain Weight(grams)  224 non-null    int64\n",
      "dtypes: int64(4)\n",
      "memory usage: 7.1 KB\n"
     ]
    }
   ],
   "source": [
    "dataset.info()"
   ]
  },
  {
   "cell_type": "code",
   "execution_count": 4,
   "id": "5dd78b55-578d-4c1d-9490-008888e36fa0",
   "metadata": {},
   "outputs": [
    {
     "data": {
      "text/html": [
       "<div>\n",
       "<style scoped>\n",
       "    .dataframe tbody tr th:only-of-type {\n",
       "        vertical-align: middle;\n",
       "    }\n",
       "\n",
       "    .dataframe tbody tr th {\n",
       "        vertical-align: top;\n",
       "    }\n",
       "\n",
       "    .dataframe thead th {\n",
       "        text-align: right;\n",
       "    }\n",
       "</style>\n",
       "<table border=\"1\" class=\"dataframe\">\n",
       "  <thead>\n",
       "    <tr style=\"text-align: right;\">\n",
       "      <th></th>\n",
       "      <th>Gender</th>\n",
       "      <th>Age Range</th>\n",
       "      <th>Head Size(cm^3)</th>\n",
       "      <th>Brain Weight(grams)</th>\n",
       "    </tr>\n",
       "  </thead>\n",
       "  <tbody>\n",
       "    <tr>\n",
       "      <th>0</th>\n",
       "      <td>1</td>\n",
       "      <td>1</td>\n",
       "      <td>4512</td>\n",
       "      <td>1530</td>\n",
       "    </tr>\n",
       "    <tr>\n",
       "      <th>1</th>\n",
       "      <td>1</td>\n",
       "      <td>1</td>\n",
       "      <td>3738</td>\n",
       "      <td>1297</td>\n",
       "    </tr>\n",
       "    <tr>\n",
       "      <th>2</th>\n",
       "      <td>1</td>\n",
       "      <td>1</td>\n",
       "      <td>4261</td>\n",
       "      <td>1335</td>\n",
       "    </tr>\n",
       "    <tr>\n",
       "      <th>3</th>\n",
       "      <td>1</td>\n",
       "      <td>1</td>\n",
       "      <td>4177</td>\n",
       "      <td>1590</td>\n",
       "    </tr>\n",
       "    <tr>\n",
       "      <th>4</th>\n",
       "      <td>1</td>\n",
       "      <td>1</td>\n",
       "      <td>3585</td>\n",
       "      <td>1300</td>\n",
       "    </tr>\n",
       "  </tbody>\n",
       "</table>\n",
       "</div>"
      ],
      "text/plain": [
       "   Gender  Age Range  Head Size(cm^3)  Brain Weight(grams)\n",
       "0       1          1             4512                 1530\n",
       "1       1          1             3738                 1297\n",
       "2       1          1             4261                 1335\n",
       "3       1          1             4177                 1590\n",
       "4       1          1             3585                 1300"
      ]
     },
     "execution_count": 4,
     "metadata": {},
     "output_type": "execute_result"
    }
   ],
   "source": [
    "dataset.head()"
   ]
  },
  {
   "cell_type": "code",
   "execution_count": 5,
   "id": "184bfdab-1f7d-4d52-87fb-55759cc3fb18",
   "metadata": {},
   "outputs": [
    {
     "data": {
      "text/plain": [
       "Gender                 0\n",
       "Age Range              0\n",
       "Head Size(cm^3)        0\n",
       "Brain Weight(grams)    0\n",
       "dtype: int64"
      ]
     },
     "execution_count": 5,
     "metadata": {},
     "output_type": "execute_result"
    }
   ],
   "source": [
    "dataset.isnull().sum()"
   ]
  },
  {
   "cell_type": "markdown",
   "id": "ed965487-73c3-4fe1-abbc-f2b35bc3b307",
   "metadata": {},
   "source": [
    "# Multiple Linear Regressor"
   ]
  },
  {
   "cell_type": "code",
   "execution_count": 6,
   "id": "d2db571e-e531-4e84-9f79-062f9ca16a92",
   "metadata": {},
   "outputs": [],
   "source": [
    "X=dataset[['Gender', 'Age Range', 'Head Size(cm^3)']]\n",
    "y=dataset[['Brain Weight(grams)']]"
   ]
  },
  {
   "cell_type": "code",
   "execution_count": 7,
   "id": "52504b9d-8669-43cb-89e1-30000173c266",
   "metadata": {},
   "outputs": [],
   "source": [
    "from sklearn.model_selection import train_test_split\n",
    "X_train,X_test,y_train,y_test=train_test_split(X,y,test_size=0.2, random_state=42)"
   ]
  },
  {
   "cell_type": "code",
   "execution_count": 8,
   "id": "e435fe66-db1d-4b8f-bed5-356b458e6cf5",
   "metadata": {},
   "outputs": [
    {
     "data": {
      "text/plain": [
       "LinearRegression()"
      ]
     },
     "execution_count": 8,
     "metadata": {},
     "output_type": "execute_result"
    }
   ],
   "source": [
    "from sklearn.linear_model import LinearRegression\n",
    "regressor=LinearRegression()\n",
    "regressor.fit(X_train,y_train)"
   ]
  },
  {
   "cell_type": "code",
   "execution_count": 9,
   "id": "251d18e4-c7c1-49e5-9936-f05a4ca8c006",
   "metadata": {},
   "outputs": [],
   "source": [
    "y_pred=regressor.predict(X_test)"
   ]
  },
  {
   "cell_type": "markdown",
   "id": "b0a2c4d1-ee44-4520-a970-d8809a2a688a",
   "metadata": {},
   "source": [
    "## Predictions"
   ]
  },
  {
   "cell_type": "code",
   "execution_count": 10,
   "id": "d1eb1fc5-ef5f-44b6-a979-b94b0b2286ae",
   "metadata": {},
   "outputs": [
    {
     "data": {
      "text/plain": [
       "array([[1343.87313736]])"
      ]
     },
     "execution_count": 10,
     "metadata": {},
     "output_type": "execute_result"
    }
   ],
   "source": [
    "#Case1\n",
    "regressor.predict([[1,1,3777]])"
   ]
  },
  {
   "cell_type": "code",
   "execution_count": 11,
   "id": "cbe98e1a-598d-488e-a587-9b2633cdf7a4",
   "metadata": {},
   "outputs": [
    {
     "data": {
      "text/plain": [
       "array([[1509.36609384]])"
      ]
     },
     "execution_count": 11,
     "metadata": {},
     "output_type": "execute_result"
    }
   ],
   "source": [
    "#Case2\n",
    "regressor.predict([[1,1,4424]])"
   ]
  },
  {
   "cell_type": "code",
   "execution_count": 12,
   "id": "1cd94e29-64da-46cd-88e2-98106a738e08",
   "metadata": {},
   "outputs": [
    {
     "data": {
      "text/plain": [
       "array([[1410.12147697]])"
      ]
     },
     "execution_count": 12,
     "metadata": {},
     "output_type": "execute_result"
    }
   ],
   "source": [
    "#Case3\n",
    "regressor.predict([[1,1,4036]])"
   ]
  },
  {
   "cell_type": "code",
   "execution_count": 13,
   "id": "8cfe9efc-cbad-47ce-8621-278e9ef3d159",
   "metadata": {},
   "outputs": [
    {
     "data": {
      "text/plain": [
       "array([[1481.48551848]])"
      ]
     },
     "execution_count": 13,
     "metadata": {},
     "output_type": "execute_result"
    }
   ],
   "source": [
    "#Case4\n",
    "regressor.predict([[1,1,4315]])"
   ]
  },
  {
   "cell_type": "code",
   "execution_count": 14,
   "id": "8ccaf24b-c22d-4bd4-866f-cbbbada8faf7",
   "metadata": {},
   "outputs": [
    {
     "data": {
      "text/plain": [
       "array([[1469.97518921]])"
      ]
     },
     "execution_count": 14,
     "metadata": {},
     "output_type": "execute_result"
    }
   ],
   "source": [
    "#Case5\n",
    "regressor.predict([[1,1,4270]])"
   ]
  },
  {
   "cell_type": "code",
   "execution_count": 15,
   "id": "6d3a35d9-c8bc-456c-bd52-2a4c33b8618c",
   "metadata": {},
   "outputs": [
    {
     "data": {
      "text/plain": [
       "array([[1310.80190525]])"
      ]
     },
     "execution_count": 15,
     "metadata": {},
     "output_type": "execute_result"
    }
   ],
   "source": [
    "#Case6\n",
    "regressor.predict([[1,2,3727]])"
   ]
  },
  {
   "cell_type": "code",
   "execution_count": 16,
   "id": "8a3b3434-4da6-457e-9d04-f8cefee0e508",
   "metadata": {},
   "outputs": [
    {
     "data": {
      "text/plain": [
       "array([[1295.19901446]])"
      ]
     },
     "execution_count": 16,
     "metadata": {},
     "output_type": "execute_result"
    }
   ],
   "source": [
    "#Case7\n",
    "regressor.predict([[1,2,3666]])"
   ]
  },
  {
   "cell_type": "code",
   "execution_count": 17,
   "id": "9c3d5982-3910-44e4-966d-948e2925646d",
   "metadata": {},
   "outputs": [
    {
     "data": {
      "text/plain": [
       "array([[1203.41021731]])"
      ]
     },
     "execution_count": 17,
     "metadata": {},
     "output_type": "execute_result"
    }
   ],
   "source": [
    "#Case8\n",
    "regressor.predict([[2,2,3394]])"
   ]
  },
  {
   "cell_type": "code",
   "execution_count": 18,
   "id": "b406d0d4-b4c7-4925-80c9-d9d56478ad16",
   "metadata": {},
   "outputs": [
    {
     "data": {
      "text/plain": [
       "array([[1279.63417563]])"
      ]
     },
     "execution_count": 18,
     "metadata": {},
     "output_type": "execute_result"
    }
   ],
   "source": [
    "#Case9\n",
    "regressor.predict([[2,2,3692]])"
   ]
  },
  {
   "cell_type": "code",
   "execution_count": 19,
   "id": "0760d9e5-2994-4fb5-8bcc-55bf08056265",
   "metadata": {},
   "outputs": [
    {
     "data": {
      "text/plain": [
       "array([[1202.13129184]])"
      ]
     },
     "execution_count": 19,
     "metadata": {},
     "output_type": "execute_result"
    }
   ],
   "source": [
    "#Case10\n",
    "regressor.predict([[2,2,3389]])"
   ]
  },
  {
   "cell_type": "code",
   "execution_count": 20,
   "id": "102f46e5-8840-4826-b695-0f7bc4d82045",
   "metadata": {},
   "outputs": [
    {
     "data": {
      "text/plain": [
       "array([[1410.59614429]])"
      ]
     },
     "execution_count": 20,
     "metadata": {},
     "output_type": "execute_result"
    }
   ],
   "source": [
    "#Case11\n",
    "regressor.predict([[2,2,4204]])"
   ]
  },
  {
   "cell_type": "code",
   "execution_count": 21,
   "id": "0377807e-828c-4c79-9788-631c30ba0971",
   "metadata": {},
   "outputs": [
    {
     "data": {
      "text/plain": [
       "array([[1157.36890021]])"
      ]
     },
     "execution_count": 21,
     "metadata": {},
     "output_type": "execute_result"
    }
   ],
   "source": [
    "#Case12\n",
    "regressor.predict([[2,2,3214]])"
   ]
  },
  {
   "cell_type": "code",
   "execution_count": 22,
   "id": "ac8b8f95-fab0-4d71-b3be-c703ea1cccb3",
   "metadata": {},
   "outputs": [
    {
     "name": "stdout",
     "output_type": "stream",
     "text": [
      "R-Square 0.5186242086390903\n"
     ]
    }
   ],
   "source": [
    "from sklearn.metrics import r2_score\n",
    "print('R-Square', r2_score(y_test,y_pred))"
   ]
  },
  {
   "cell_type": "code",
   "execution_count": 23,
   "id": "3cdb54ec-2818-48a2-b7fa-6ae99490b346",
   "metadata": {},
   "outputs": [
    {
     "name": "stdout",
     "output_type": "stream",
     "text": [
      "The root mean squared error is 66.94213669838602\n"
     ]
    }
   ],
   "source": [
    "from sklearn.metrics import mean_squared_error as mse\n",
    "from math import sqrt\n",
    "rms=sqrt(mse(y_test,y_pred))\n",
    "print('The root mean squared error is',rms)"
   ]
  },
  {
   "cell_type": "markdown",
   "id": "5cdf40a8-3d17-47c5-ac47-3972c16dc281",
   "metadata": {},
   "source": [
    "# SVR"
   ]
  },
  {
   "cell_type": "code",
   "execution_count": 24,
   "id": "6d0f7c46-42c6-4f7e-b632-4832ab717660",
   "metadata": {},
   "outputs": [],
   "source": [
    "X=dataset[['Gender', 'Age Range', 'Head Size(cm^3)']]\n",
    "y=dataset[['Brain Weight(grams)']]"
   ]
  },
  {
   "cell_type": "code",
   "execution_count": 25,
   "id": "558b6a84-1e12-4783-bd67-599d399ed193",
   "metadata": {},
   "outputs": [],
   "source": [
    "from sklearn.model_selection import train_test_split\n",
    "X_train,X_test,y_train,y_test=train_test_split(X,y,test_size=0.2, random_state=42)"
   ]
  },
  {
   "cell_type": "code",
   "execution_count": 26,
   "id": "e71fafa3-5acc-407a-b354-96c2b008b9dc",
   "metadata": {},
   "outputs": [],
   "source": [
    "from sklearn.preprocessing import StandardScaler\n",
    "sc_X=StandardScaler()\n",
    "sc_y=StandardScaler()\n",
    "X_train=sc_X.fit_transform(X_train)\n",
    "y_train=sc_y.fit_transform(y_train)"
   ]
  },
  {
   "cell_type": "code",
   "execution_count": 27,
   "id": "3da2c147-7fd0-41cf-9b45-d6c67e865934",
   "metadata": {},
   "outputs": [
    {
     "name": "stderr",
     "output_type": "stream",
     "text": [
      "/Users/carmengascogalvez/opt/anaconda3/lib/python3.9/site-packages/sklearn/utils/validation.py:63: DataConversionWarning: A column-vector y was passed when a 1d array was expected. Please change the shape of y to (n_samples, ), for example using ravel().\n",
      "  return f(*args, **kwargs)\n"
     ]
    },
    {
     "data": {
      "text/plain": [
       "SVR()"
      ]
     },
     "execution_count": 27,
     "metadata": {},
     "output_type": "execute_result"
    }
   ],
   "source": [
    "from sklearn.svm import SVR\n",
    "regressor=SVR(kernel='rbf')\n",
    "regressor.fit(X_train, y_train)   "
   ]
  },
  {
   "cell_type": "code",
   "execution_count": 28,
   "id": "5ad033f4-3f21-421d-a3a6-38222febad5f",
   "metadata": {},
   "outputs": [],
   "source": [
    "y_pred=sc_y.inverse_transform(regressor.predict(sc_X.transform(X_test)).reshape(-1,1))"
   ]
  },
  {
   "cell_type": "markdown",
   "id": "1a41a0e6-d7ee-4fcd-90e1-65ed563fe972",
   "metadata": {},
   "source": [
    "### Validation"
   ]
  },
  {
   "cell_type": "code",
   "execution_count": 29,
   "id": "91aa2720-36d6-4b95-b92f-e6cebb6d41a3",
   "metadata": {},
   "outputs": [
    {
     "data": {
      "text/plain": [
       "array([[1330.13843789]])"
      ]
     },
     "execution_count": 29,
     "metadata": {},
     "output_type": "execute_result"
    }
   ],
   "source": [
    "#Case1\n",
    "sc_y.inverse_transform(regressor.predict(sc_X.transform([[1,1,3777]])).reshape(-1,1))"
   ]
  },
  {
   "cell_type": "code",
   "execution_count": 30,
   "id": "6396c4bf-b61b-4b45-8015-8bd3317f439a",
   "metadata": {},
   "outputs": [
    {
     "data": {
      "text/plain": [
       "array([[1503.45891121]])"
      ]
     },
     "execution_count": 30,
     "metadata": {},
     "output_type": "execute_result"
    }
   ],
   "source": [
    "#Case2\n",
    "sc_y.inverse_transform(regressor.predict(sc_X.transform([[1,1,4424]])).reshape(-1,1))"
   ]
  },
  {
   "cell_type": "code",
   "execution_count": 31,
   "id": "236a3c01-58ca-42e1-aaf3-50d5f92e9c89",
   "metadata": {},
   "outputs": [
    {
     "data": {
      "text/plain": [
       "array([[1394.54125949]])"
      ]
     },
     "execution_count": 31,
     "metadata": {},
     "output_type": "execute_result"
    }
   ],
   "source": [
    "#Case3\n",
    "sc_y.inverse_transform(regressor.predict(sc_X.transform([[1,1,4036]])).reshape(-1,1))"
   ]
  },
  {
   "cell_type": "code",
   "execution_count": 32,
   "id": "971479dc-cc5e-469b-a1bc-72bf55e72e8e",
   "metadata": {},
   "outputs": [
    {
     "data": {
      "text/plain": [
       "array([[1477.23459502]])"
      ]
     },
     "execution_count": 32,
     "metadata": {},
     "output_type": "execute_result"
    }
   ],
   "source": [
    "#Case4\n",
    "sc_y.inverse_transform(regressor.predict(sc_X.transform([[1,1,4315]])).reshape(-1,1))"
   ]
  },
  {
   "cell_type": "code",
   "execution_count": 33,
   "id": "80dd55c2-6f88-4564-84c0-bb589c6c5580",
   "metadata": {},
   "outputs": [
    {
     "data": {
      "text/plain": [
       "array([[1464.54577335]])"
      ]
     },
     "execution_count": 33,
     "metadata": {},
     "output_type": "execute_result"
    }
   ],
   "source": [
    "#Case5\n",
    "sc_y.inverse_transform(regressor.predict(sc_X.transform([[1,1,4270]])).reshape(-1,1))"
   ]
  },
  {
   "cell_type": "code",
   "execution_count": 34,
   "id": "6292de03-414d-4e97-8fb4-4c9249354dd8",
   "metadata": {},
   "outputs": [
    {
     "data": {
      "text/plain": [
       "array([[1310.42153843]])"
      ]
     },
     "execution_count": 34,
     "metadata": {},
     "output_type": "execute_result"
    }
   ],
   "source": [
    "#Case6\n",
    "sc_y.inverse_transform(regressor.predict(sc_X.transform([[1,2,3727]])).reshape(-1,1))"
   ]
  },
  {
   "cell_type": "code",
   "execution_count": 35,
   "id": "6cc416b3-3660-461a-8ead-750436d6abd2",
   "metadata": {},
   "outputs": [
    {
     "data": {
      "text/plain": [
       "array([[1293.83054452]])"
      ]
     },
     "execution_count": 35,
     "metadata": {},
     "output_type": "execute_result"
    }
   ],
   "source": [
    "#Case7\n",
    "sc_y.inverse_transform(regressor.predict(sc_X.transform([[1,2,3666]])).reshape(-1,1))"
   ]
  },
  {
   "cell_type": "code",
   "execution_count": 36,
   "id": "fcfc52c4-542b-469d-af39-885f37202ae0",
   "metadata": {},
   "outputs": [
    {
     "data": {
      "text/plain": [
       "array([[1208.06177103]])"
      ]
     },
     "execution_count": 36,
     "metadata": {},
     "output_type": "execute_result"
    }
   ],
   "source": [
    "#Case8\n",
    "sc_y.inverse_transform(regressor.predict(sc_X.transform([[2,2,3394]])).reshape(-1,1))"
   ]
  },
  {
   "cell_type": "code",
   "execution_count": 37,
   "id": "4c156292-6ea9-4e22-9223-acd6844fce0c",
   "metadata": {},
   "outputs": [
    {
     "data": {
      "text/plain": [
       "array([[1317.27315037]])"
      ]
     },
     "execution_count": 37,
     "metadata": {},
     "output_type": "execute_result"
    }
   ],
   "source": [
    "#Case9\n",
    "sc_y.inverse_transform(regressor.predict(sc_X.transform([[2,2,3692]])).reshape(-1,1))"
   ]
  },
  {
   "cell_type": "code",
   "execution_count": 38,
   "id": "d2a3e4ea-d123-4e23-b129-2b6b626ebe92",
   "metadata": {},
   "outputs": [
    {
     "data": {
      "text/plain": [
       "array([[1206.00063275]])"
      ]
     },
     "execution_count": 38,
     "metadata": {},
     "output_type": "execute_result"
    }
   ],
   "source": [
    "#Case10\n",
    "sc_y.inverse_transform(regressor.predict(sc_X.transform([[2,2,3389]])).reshape(-1,1))"
   ]
  },
  {
   "cell_type": "code",
   "execution_count": 39,
   "id": "53072556-48cc-43c9-b1aa-5333f69dfc28",
   "metadata": {},
   "outputs": [
    {
     "data": {
      "text/plain": [
       "array([[1345.18594696]])"
      ]
     },
     "execution_count": 39,
     "metadata": {},
     "output_type": "execute_result"
    }
   ],
   "source": [
    "#Case11\n",
    "sc_y.inverse_transform(regressor.predict(sc_X.transform([[2,2,4204]])).reshape(-1,1))"
   ]
  },
  {
   "cell_type": "code",
   "execution_count": 40,
   "id": "843557ca-ab5d-4b0c-ba17-f6a9b7ef702c",
   "metadata": {},
   "outputs": [
    {
     "data": {
      "text/plain": [
       "array([[1138.98263048]])"
      ]
     },
     "execution_count": 40,
     "metadata": {},
     "output_type": "execute_result"
    }
   ],
   "source": [
    "#Case12\n",
    "sc_y.inverse_transform(regressor.predict(sc_X.transform([[2,2,3214]])).reshape(-1,1))"
   ]
  },
  {
   "cell_type": "code",
   "execution_count": 41,
   "id": "a2a3e809-082e-43ec-8273-9a465ec15566",
   "metadata": {},
   "outputs": [
    {
     "name": "stdout",
     "output_type": "stream",
     "text": [
      "R-Square 0.5014536540493876\n"
     ]
    }
   ],
   "source": [
    "from sklearn.metrics import r2_score\n",
    "print('R-Square', r2_score(y_test,y_pred))"
   ]
  },
  {
   "cell_type": "code",
   "execution_count": 42,
   "id": "decc0287-b199-4955-ba1c-1ca4f237988c",
   "metadata": {},
   "outputs": [
    {
     "name": "stdout",
     "output_type": "stream",
     "text": [
      "The root mean squared error is 68.12558054984444\n"
     ]
    }
   ],
   "source": [
    "from sklearn.metrics import mean_squared_error as mse\n",
    "from math import sqrt\n",
    "rms=sqrt(mse(y_test,y_pred))\n",
    "print('The root mean squared error is',rms)"
   ]
  }
 ],
 "metadata": {
  "kernelspec": {
   "display_name": "Python 3 (ipykernel)",
   "language": "python",
   "name": "python3"
  },
  "language_info": {
   "codemirror_mode": {
    "name": "ipython",
    "version": 3
   },
   "file_extension": ".py",
   "mimetype": "text/x-python",
   "name": "python",
   "nbconvert_exporter": "python",
   "pygments_lexer": "ipython3",
   "version": "3.9.7"
  }
 },
 "nbformat": 4,
 "nbformat_minor": 5
}
